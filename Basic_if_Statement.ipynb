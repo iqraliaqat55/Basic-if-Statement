{
  "nbformat": 4,
  "nbformat_minor": 0,
  "metadata": {
    "colab": {
      "provenance": []
    },
    "kernelspec": {
      "name": "python3",
      "display_name": "Python 3"
    },
    "language_info": {
      "name": "python"
    }
  },
  "cells": [
    {
      "cell_type": "markdown",
      "source": [
        "# **Basic if Statement**\n",
        "\n",
        "The if statement evaluates a condition (an expression that returns True or False). If the condition is True, the indented block of code below the if statement is executed."
      ],
      "metadata": {
        "id": "iXIZP9dMFGi6"
      }
    },
    {
      "cell_type": "code",
      "execution_count": 1,
      "metadata": {
        "colab": {
          "base_uri": "https://localhost:8080/"
        },
        "id": "DkTeTgZtE1gc",
        "outputId": "b3ce8c07-ec0a-46d7-b5d4-02141ea0af9d"
      },
      "outputs": [
        {
          "output_type": "stream",
          "name": "stdout",
          "text": [
            "x is greater than 5\n"
          ]
        }
      ],
      "source": [
        "# Example of a basic if statement\n",
        "\n",
        "x = 10\n",
        "\n",
        "if x > 5:\n",
        "    print(\"x is greater than 5\")\n"
      ]
    },
    {
      "cell_type": "markdown",
      "source": [
        "**Explanation:**\n",
        "\n",
        "The condition x > 5 is evaluated. Since x is 10, which is greater than 5, the statement print(\"x is greater than 5\") is executed."
      ],
      "metadata": {
        "id": "Uwp2V8fQFFcq"
      }
    },
    {
      "cell_type": "markdown",
      "source": [
        "**2. if-else Statement**"
      ],
      "metadata": {
        "id": "MOiQGlrUFVc6"
      }
    },
    {
      "cell_type": "code",
      "source": [
        "# Example of if-else statement\n",
        "\n",
        "x = 3\n",
        "\n",
        "if x > 5:\n",
        "    print(\"x is greater than 5\")\n",
        "else:\n",
        "    print(\"x is not greater than 5\")\n"
      ],
      "metadata": {
        "colab": {
          "base_uri": "https://localhost:8080/"
        },
        "id": "dGmC4yIEFd8E",
        "outputId": "b8571cca-085e-4491-d4ed-92d7f344308d"
      },
      "execution_count": 2,
      "outputs": [
        {
          "output_type": "stream",
          "name": "stdout",
          "text": [
            "x is not greater than 5\n"
          ]
        }
      ]
    },
    {
      "cell_type": "markdown",
      "source": [
        "**if-elif-else Statement**"
      ],
      "metadata": {
        "id": "gD0dSmHlFgjr"
      }
    },
    {
      "cell_type": "code",
      "source": [
        "# Example of if-elif-else statement\n",
        "\n",
        "x = 7\n",
        "\n",
        "if x > 10:\n",
        "    print(\"x is greater than 10\")\n",
        "elif x > 5:\n",
        "    print(\"x is greater than 5 but less than or equal to 10\")\n",
        "else:\n",
        "    print(\"x is 5 or less\")\n"
      ],
      "metadata": {
        "colab": {
          "base_uri": "https://localhost:8080/"
        },
        "id": "sqPjpi_XFkGS",
        "outputId": "f221d5f1-63e7-44e3-eee0-e13dc8c7e724"
      },
      "execution_count": 3,
      "outputs": [
        {
          "output_type": "stream",
          "name": "stdout",
          "text": [
            "x is greater than 5 but less than or equal to 10\n"
          ]
        }
      ]
    },
    {
      "cell_type": "markdown",
      "source": [
        "**4. Nested if Statements**"
      ],
      "metadata": {
        "id": "P8FQx2VBFoNk"
      }
    },
    {
      "cell_type": "code",
      "source": [
        "# Example of nested if statements\n",
        "\n",
        "x = 15\n",
        "\n",
        "if x > 10:\n",
        "    print(\"x is greater than 10\")\n",
        "    if x > 20:\n",
        "        print(\"x is also greater than 20\")\n",
        "    else:\n",
        "        print(\"x is 10 to 20\")\n",
        "else:\n",
        "    print(\"x is 10 or less\")\n"
      ],
      "metadata": {
        "colab": {
          "base_uri": "https://localhost:8080/"
        },
        "id": "BIaWnkPbFpfT",
        "outputId": "21b6d0db-b68d-4338-cc5e-d4dcd1f0e4d6"
      },
      "execution_count": 4,
      "outputs": [
        {
          "output_type": "stream",
          "name": "stdout",
          "text": [
            "x is greater than 10\n",
            "x is 10 to 20\n"
          ]
        }
      ]
    },
    {
      "cell_type": "markdown",
      "source": [
        "**5. Multiple Conditions Using Logical Operators**\n",
        "\n",
        "You can combine multiple conditions using logical operators like and, or, and not."
      ],
      "metadata": {
        "id": "vK8ieIeHFsuK"
      }
    },
    {
      "cell_type": "markdown",
      "source": [
        "**5.1 Using and**"
      ],
      "metadata": {
        "id": "mWI3sFxuFyyS"
      }
    },
    {
      "cell_type": "code",
      "source": [
        "# Example of using and in if statement\n",
        "\n",
        "x = 15\n",
        "\n",
        "if x > 10 and x < 20:\n",
        "    print(\"x is between 10 and 20\")\n"
      ],
      "metadata": {
        "colab": {
          "base_uri": "https://localhost:8080/"
        },
        "id": "DZ6N_9lHF1Ib",
        "outputId": "5e1eff55-39c9-47f0-c3cf-0e7cfc18bcde"
      },
      "execution_count": 5,
      "outputs": [
        {
          "output_type": "stream",
          "name": "stdout",
          "text": [
            "x is between 10 and 20\n"
          ]
        }
      ]
    },
    {
      "cell_type": "markdown",
      "source": [
        "**Explanation:**\n",
        "\n",
        "Both conditions x > 10 and x < 20 must be True for the block to execute."
      ],
      "metadata": {
        "id": "veg4zJySF5_L"
      }
    },
    {
      "cell_type": "markdown",
      "source": [
        "**5.2 Using or**"
      ],
      "metadata": {
        "id": "XSgpjoRxF7W6"
      }
    },
    {
      "cell_type": "code",
      "source": [
        "# Example of using or in if statement\n",
        "\n",
        "x = 5\n",
        "\n",
        "if x < 5 or x > 10:\n",
        "    print(\"x is either less than 5 or greater than 10\")\n",
        "else:\n",
        "    print(\"x is between 5 and 10\")\n"
      ],
      "metadata": {
        "colab": {
          "base_uri": "https://localhost:8080/"
        },
        "id": "HJMiair_F-PV",
        "outputId": "864325d3-3769-4929-f282-9e5463a330cc"
      },
      "execution_count": 6,
      "outputs": [
        {
          "output_type": "stream",
          "name": "stdout",
          "text": [
            "x is between 5 and 10\n"
          ]
        }
      ]
    },
    {
      "cell_type": "markdown",
      "source": [
        "**Explanation:**\n",
        "\n",
        "The block of code executes if at least one of the conditions is True."
      ],
      "metadata": {
        "id": "9ymK1SQrGA6i"
      }
    },
    {
      "cell_type": "markdown",
      "source": [
        "**5.3 Using not**"
      ],
      "metadata": {
        "id": "1BV0T_GnGEuC"
      }
    },
    {
      "cell_type": "code",
      "source": [
        "# Example of using not in if statement\n",
        "\n",
        "x = 8\n",
        "\n",
        "if not x > 10:\n",
        "    print(\"x is not greater than 10\")\n"
      ],
      "metadata": {
        "colab": {
          "base_uri": "https://localhost:8080/"
        },
        "id": "vzBcGp7vGICa",
        "outputId": "8d25c122-15db-4504-954b-fc6034970749"
      },
      "execution_count": 7,
      "outputs": [
        {
          "output_type": "stream",
          "name": "stdout",
          "text": [
            "x is not greater than 10\n"
          ]
        }
      ]
    },
    {
      "cell_type": "markdown",
      "source": [
        "**Explanation:**\n",
        "\n",
        "The not operator inverts the condition, so x > 10 becomes False, making the condition True."
      ],
      "metadata": {
        "id": "I_bmqR4DGMzD"
      }
    },
    {
      "cell_type": "markdown",
      "source": [
        "**6. Using if with Lists**"
      ],
      "metadata": {
        "id": "P-i1Uz9wGOMz"
      }
    },
    {
      "cell_type": "code",
      "source": [
        "# Example of using if with lists\n",
        "\n",
        "fruits = [\"apple\", \"banana\", \"cherry\"]\n",
        "\n",
        "if \"banana\" in fruits:\n",
        "    print(\"Banana is in the list\")\n"
      ],
      "metadata": {
        "colab": {
          "base_uri": "https://localhost:8080/"
        },
        "id": "IhXI9DX4GSO7",
        "outputId": "cb721163-2f11-4f17-d3fd-f4b44645c20c"
      },
      "execution_count": 8,
      "outputs": [
        {
          "output_type": "stream",
          "name": "stdout",
          "text": [
            "Banana is in the list\n"
          ]
        }
      ]
    },
    {
      "cell_type": "markdown",
      "source": [
        "**7. Using if with Dictionaries**"
      ],
      "metadata": {
        "id": "gri0xA5AGXlz"
      }
    },
    {
      "cell_type": "code",
      "source": [
        "# Example of using if with dictionaries\n",
        "\n",
        "person = {\"name\": \"Alice\", \"age\": 30}\n",
        "\n",
        "if \"name\" in person:\n",
        "    print(\"Name is in the dictionary\")\n"
      ],
      "metadata": {
        "colab": {
          "base_uri": "https://localhost:8080/"
        },
        "id": "T9HNBmyfGZBr",
        "outputId": "aaed30e8-0f67-42e0-f250-bb935ff6574c"
      },
      "execution_count": 9,
      "outputs": [
        {
          "output_type": "stream",
          "name": "stdout",
          "text": [
            "Name is in the dictionary\n"
          ]
        }
      ]
    },
    {
      "cell_type": "markdown",
      "source": [
        "**8. Conditional Expressions (Ternary Operator)**"
      ],
      "metadata": {
        "id": "6KJ_RGhVGfHP"
      }
    },
    {
      "cell_type": "code",
      "source": [
        "# Example of conditional expression\n",
        "\n",
        "x = 10\n",
        "result = \"Greater than 5\" if x > 5 else \"5 or less\"\n",
        "print(result)\n"
      ],
      "metadata": {
        "colab": {
          "base_uri": "https://localhost:8080/"
        },
        "id": "G0FmosUtGj8X",
        "outputId": "fcfbb1a8-af4e-4dfe-f84a-94bbaab46fe8"
      },
      "execution_count": 10,
      "outputs": [
        {
          "output_type": "stream",
          "name": "stdout",
          "text": [
            "Greater than 5\n"
          ]
        }
      ]
    },
    {
      "cell_type": "markdown",
      "source": [
        "**9. Practical Example**"
      ],
      "metadata": {
        "id": "vsFaLCveGop2"
      }
    },
    {
      "cell_type": "code",
      "source": [
        "# Program to categorize a person's age\n",
        "\n",
        "age = 25\n",
        "\n",
        "if age < 0:\n",
        "    print(\"Invalid age\")\n",
        "elif age < 18:\n",
        "    print(\"Minor\")\n",
        "elif age < 65:\n",
        "    print(\"Adult\")\n",
        "else:\n",
        "    print(\"Senior\")\n"
      ],
      "metadata": {
        "colab": {
          "base_uri": "https://localhost:8080/"
        },
        "id": "ulWtjUctGqIb",
        "outputId": "cfa3c275-915b-491a-9efe-379148d94723"
      },
      "execution_count": 11,
      "outputs": [
        {
          "output_type": "stream",
          "name": "stdout",
          "text": [
            "Adult\n"
          ]
        }
      ]
    },
    {
      "cell_type": "markdown",
      "source": [
        "**Explanation:**\n",
        "\n",
        "This program categorizes a person based on their age:\n",
        "age < 0: Invalid age\n",
        "age < 18: Minor\n",
        "age < 65: Adult\n",
        "Otherwise, Senior"
      ],
      "metadata": {
        "id": "pKtaj7OoGumE"
      }
    }
  ]
}